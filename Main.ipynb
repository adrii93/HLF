{
 "cells": [
  {
   "cell_type": "code",
   "execution_count": 1,
   "metadata": {},
   "outputs": [],
   "source": [
    "import numpy as np"
   ]
  },
  {
   "cell_type": "code",
   "execution_count": 2,
   "metadata": {},
   "outputs": [],
   "source": [
    "import funciones\n",
    "from funciones import Tablero\n",
    "from variables import NUM_BARCOS"
   ]
  },
  {
   "cell_type": "code",
   "execution_count": 3,
   "metadata": {},
   "outputs": [],
   "source": [
    "tablero_disparos = np.full((10,10), \"&\")\n",
    "tablero = np.full((10,10), \" \")"
   ]
  },
  {
   "cell_type": "code",
   "execution_count": 4,
   "metadata": {},
   "outputs": [
    {
     "name": "stdout",
     "output_type": "stream",
     "text": [
      "Tablero con barcos:\n",
      "[['O' ' ' ' ' ' ' ' ' ' ' ' ' ' ' ' ' ' ']\n",
      " [' ' ' ' ' ' ' ' ' ' ' ' ' ' 'O' ' ' ' ']\n",
      " [' ' 'O' 'O' ' ' ' ' ' ' ' ' 'O' ' ' ' ']\n",
      " [' ' ' ' ' ' ' ' ' ' 'O' ' ' 'O' ' ' ' ']\n",
      " [' ' ' ' ' ' 'O' ' ' 'O' ' ' ' ' ' ' ' ']\n",
      " [' ' ' ' ' ' ' ' ' ' ' ' ' ' ' ' ' ' ' ']\n",
      " ['O' ' ' ' ' ' ' ' ' ' ' ' ' 'O' ' ' ' ']\n",
      " ['O' ' ' ' ' ' ' 'O' ' ' ' ' 'O' ' ' 'O']\n",
      " [' ' ' ' ' ' ' ' ' ' ' ' ' ' 'O' ' ' ' ']\n",
      " [' ' 'O' 'O' 'O' ' ' ' ' ' ' 'O' ' ' ' ']]\n"
     ]
    }
   ],
   "source": [
    "tablero[0, 0] = \"O\"\n",
    "tablero[4, 3] = \"O\"\n",
    "tablero[7, 9] = \"O\"\n",
    "tablero[7, 4] = \"O\"\n",
    "\n",
    "tablero[2, 1:3] = \"O\"\n",
    "tablero[3:5, 5] = \"O\"\n",
    "tablero[6:8, 0] = \"O\"\n",
    "\n",
    "tablero[1:4, 7] = \"O\"\n",
    "tablero[9, 1:4] = \"O\"\n",
    "\n",
    "tablero[6:, 7] = \"O\"\n",
    "\n",
    "print(\"Tablero con barcos:\")\n",
    "print(tablero)"
   ]
  },
  {
   "cell_type": "code",
   "execution_count": 8,
   "metadata": {},
   "outputs": [
    {
     "name": "stdout",
     "output_type": "stream",
     "text": [
      "¡Bienvenido al juego de Hundir la Flota!\n",
      "\n",
      "Instrucciones del juego:\n",
      "- Tienes que hundir todos los barcos del oponente para ganar.\n",
      "- Durante tu turno, introduce coordenadas (X, Y) para disparar al tablero del oponente.\n",
      "- Si aciertas, podrás disparar de nuevo. De lo contrario, le tocará a la máquina.\n",
      "<funciones.Tablero object at 0x000001800B2E2410>\n",
      "<funciones.Tablero object at 0x000001800A51C5D0>\n"
     ]
    }
   ],
   "source": [
    "print(\"¡Bienvenido al juego de Hundir la Flota!\\n\")\n",
    "print(\"Instrucciones del juego:\")\n",
    "print(\"- Tienes que hundir todos los barcos del oponente para ganar.\")\n",
    "print(\"- Durante tu turno, introduce coordenadas (X, Y) para disparar al tablero del oponente.\")\n",
    "print(\"- Si aciertas, podrás disparar de nuevo. De lo contrario, le tocará a la máquina.\")\n",
    "\n",
    "\n",
    "tablero_jugador = Tablero(ID=1)\n",
    "tablero_maquina = Tablero(ID=2)\n",
    "\n",
    "print(tablero_jugador)\n",
    "print(tablero_maquina)"
   ]
  },
  {
   "cell_type": "code",
   "execution_count": 5,
   "metadata": {},
   "outputs": [
    {
     "ename": "NameError",
     "evalue": "name 'tablero_jugador' is not defined",
     "output_type": "error",
     "traceback": [
      "\u001b[1;31m---------------------------------------------------------------------------\u001b[0m",
      "\u001b[1;31mNameError\u001b[0m                                 Traceback (most recent call last)",
      "Cell \u001b[1;32mIn[5], line 1\u001b[0m\n\u001b[1;32m----> 1\u001b[0m \u001b[38;5;28;01mwhile\u001b[39;00m tablero_jugador \u001b[38;5;129;01mand\u001b[39;00m tablero_maquina [NUM_BARCOS \u001b[38;5;241m>\u001b[39m\u001b[38;5;241m0\u001b[39m]:\n\u001b[0;32m      2\u001b[0m         \u001b[38;5;28mprint\u001b[39m(\u001b[38;5;124m\"\u001b[39m\u001b[38;5;130;01m\\n\u001b[39;00m\u001b[38;5;124m=== Tu turno ===\u001b[39m\u001b[38;5;124m\"\u001b[39m)\n\u001b[0;32m      3\u001b[0m         funciones\u001b[38;5;241m.\u001b[39mTablero(tablero_jugador\u001b[38;5;241m.\u001b[39mtablero_disparos)\n",
      "\u001b[1;31mNameError\u001b[0m: name 'tablero_jugador' is not defined"
     ]
    }
   ],
   "source": [
    "while tablero_jugador and tablero_maquina [NUM_BARCOS >0]:\n",
    "        print(\"\\n=== Tu turno ===\")\n",
    "        funciones.Tablero(tablero_jugador.tablero_disparos)\n",
    "        x, y = funciones.obtener_coordenadas()\n",
    "        impacto = tablero_maquina.disparar(x, y)\n",
    "\n",
    "        while impacto:  # Si aciertas, te toca de nuevo\n",
    "            funciones.mostrar_tablero(tablero_jugador.tablero_disparos)\n",
    "            x, y = funciones.obtener_coordenadas()\n",
    "            impacto = tablero_maquina.disparar(x, y)\n",
    "\n",
    "        print(\"\\n=== Turno de la máquina ===\")\n",
    "        x, y = funciones.generar_coordenadas_aleatorias()\n",
    "        impacto_maquina = tablero_jugador.disparar(x, y)\n",
    "\n",
    "        while impacto_maquina:  # Si la máquina acierta, le toca de nuevo\n",
    "            x, y = funciones.generar_coordenadas_aleatorias() #Después tengo que crear una funcion para esto\n",
    "            impacto_maquina = tablero_jugador.disparar(x, y)\n",
    "\n",
    "if not tablero_jugador.quedan_barcos():\n",
    "        print(\"\\n¡Has perdido! Te han hundido todos tus barcos.\")\n",
    "else:\n",
    "        print(\"\\n¡Felicidades! Has hundido todos los barcos.\")\n"
   ]
  }
 ],
 "metadata": {
  "kernelspec": {
   "display_name": "base",
   "language": "python",
   "name": "python3"
  },
  "language_info": {
   "codemirror_mode": {
    "name": "ipython",
    "version": 3
   },
   "file_extension": ".py",
   "mimetype": "text/x-python",
   "name": "python",
   "nbconvert_exporter": "python",
   "pygments_lexer": "ipython3",
   "version": "3.11.5"
  }
 },
 "nbformat": 4,
 "nbformat_minor": 2
}
